{
 "cells": [
  {
   "cell_type": "code",
   "execution_count": null,
   "id": "e70d4822",
   "metadata": {},
   "outputs": [],
   "source": [
    "# Standard libraries\n",
    "import os\n",
    "import time\n",
    "import datetime as dt\n",
    "from functools import wraps\n",
    "from contextlib import contextmanager\n",
    "from importlib import reload\n",
    "\n",
    "# Third-party libraries\n",
    "import pandas as pd\n",
    "import numpy as np\n",
    "import matplotlib.pyplot as plt\n",
    "import matplotlib.gridspec as GridSpec\n",
    "import seaborn as sns\n",
    "from scipy import stats\n",
    "\n",
    "# From project\n",
    "import portfolio\n",
    "from portfolio import Portfolio\n",
    "import providers\n",
    "\n",
    "# API\n",
    "import refinitiv.data as rd\n",
    "\n",
    "# Open session\n",
    "try:\n",
    "    rd.open_session(app_key=os.getenv(\"refinitiv_key\")) \n",
    "except Exception as e:\n",
    "    print(f'Unable to open LSEG session')"
   ]
  },
  {
   "cell_type": "code",
   "execution_count": null,
   "id": "6e3dcb61",
   "metadata": {},
   "outputs": [],
   "source": [
    "reload(providers)\n",
    "\n",
    "test = providers.LSEG()\n",
    "\n",
    "out = test.get_historical(['NVDA.OQ'], '2025-03-01', '2025-03-15')\n",
    "\n",
    "out"
   ]
  },
  {
   "cell_type": "code",
   "execution_count": null,
   "id": "7c68cd74",
   "metadata": {},
   "outputs": [],
   "source": [
    "reload(portfolio)\n",
    "\n",
    "@contextmanager\n",
    "def statement_dir():\n",
    "    \"\"\"Access directory that stores eToro statements\"\"\"\n",
    "    current_dir = os.getcwd()\n",
    "    os.chdir(r'C:\\Users\\cedri\\OneDrive\\Portfolio Management\\eToro Statements')\n",
    "    try:\n",
    "        yield\n",
    "    finally:\n",
    "        os.chdir(current_dir)\n",
    "\n",
    "with statement_dir():\n",
    "    acc_activity = pd.read_excel('cedric_statement.xlsx', sheet_name='Account Activity')\n",
    "\n",
    "my_pf = Portfolio.from_etoro(acc_activity)\n",
    "\n",
    "my_pf._holds"
   ]
  },
  {
   "cell_type": "code",
   "execution_count": null,
   "id": "37fb08bb",
   "metadata": {
    "vscode": {
     "languageId": "javascript"
    }
   },
   "outputs": [],
   "source": [
    "AVGO = rd.get_history(universe=['AVGO.O'], \n",
    "                 fields=['TR.CLOSEPRICE(Adjusted=0)'],\n",
    "                 parameters = {\n",
    "                    'SDate': '2024-07-01',\n",
    "                    'EDate': '2024-07-31',\n",
    "                    'Curn': 'USD',\n",
    "                    'Frq': 'D',\n",
    "                    },\n",
    "                 )\n",
    "AVGO"
   ]
  }
 ],
 "metadata": {
  "kernelspec": {
   "display_name": "Python 3",
   "language": "python",
   "name": "python3"
  },
  "language_info": {
   "codemirror_mode": {
    "name": "ipython",
    "version": 3
   },
   "file_extension": ".py",
   "mimetype": "text/x-python",
   "name": "python",
   "nbconvert_exporter": "python",
   "pygments_lexer": "ipython3",
   "version": "3.12.5"
  }
 },
 "nbformat": 4,
 "nbformat_minor": 5
}

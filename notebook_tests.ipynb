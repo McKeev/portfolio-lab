{
 "cells": [
  {
   "cell_type": "code",
   "execution_count": 4,
   "id": "e70d4822",
   "metadata": {},
   "outputs": [],
   "source": [
    "# Standard libraries\n",
    "import os\n",
    "import time\n",
    "import datetime as dt\n",
    "from functools import wraps\n",
    "from contextlib import contextmanager\n",
    "from importlib import reload\n",
    "\n",
    "# Third-party libraries\n",
    "import pandas as pd\n",
    "import numpy as np\n",
    "import matplotlib.pyplot as plt\n",
    "import matplotlib.gridspec as GridSpec\n",
    "import seaborn as sns\n",
    "from scipy import stats\n",
    "\n",
    "# From project\n",
    "import portfolio as pf\n",
    "\n",
    "# API\n",
    "import refinitiv.data as rd\n",
    "\n",
    "# Open session\n",
    "try:\n",
    "    rd.open_session(app_key=os.getenv(\"refinitiv_key\")) \n",
    "except Exception as e:\n",
    "    print(f'Unable to open LSEG session')"
   ]
  },
  {
   "cell_type": "code",
   "execution_count": 26,
   "id": "7c68cd74",
   "metadata": {},
   "outputs": [
    {
     "data": {
      "text/plain": [
       "AAPL.OQ        0.534657\n",
       "AMZN.OQ        0.358487\n",
       "CNDX.L         0.229465\n",
       "DJGTEEX.DE     2.916791\n",
       "GE.N           0.452036\n",
       "GOOGL.OQ       0.433923\n",
       "IDEM.L         4.710863\n",
       "IUS3.DE        6.637308\n",
       "META.OQ        0.088196\n",
       "MSFT.OQ        0.256175\n",
       "NVDA.OQ        0.797200\n",
       "RHMG.DE        0.296078\n",
       "SAF.PA         0.260468\n",
       "SPY4.DE        2.184299\n",
       "SPY5.L         1.360467\n",
       "STOXXIEX.DE    8.652385\n",
       "TSLA.OQ        0.108611\n",
       "TSM.N          2.036316\n",
       "VERX.DE        2.762657\n",
       "VVSM.DE        2.898891\n",
       "XDEW.DE        3.184325\n",
       "ZPRR.DE        3.014086\n",
       "USD            3.770000\n",
       "Name: 2025-04-30 00:00:00, dtype: float64"
      ]
     },
     "execution_count": 26,
     "metadata": {},
     "output_type": "execute_result"
    }
   ],
   "source": [
    "reload(pf)\n",
    "\n",
    "@contextmanager\n",
    "def statement_dir():\n",
    "    \"\"\"Access directory that stores eToro statements\"\"\"\n",
    "    current_dir = os.getcwd()\n",
    "    os.chdir(r'C:\\Users\\cedri\\OneDrive\\Portfolio Management\\eToro Statements')\n",
    "    try:\n",
    "        yield\n",
    "    finally:\n",
    "        os.chdir(current_dir)\n",
    "\n",
    "with statement_dir():\n",
    "    acc_activity = pd.read_excel('cedric_statement.xlsx', sheet_name='Account Activity')\n",
    "\n",
    "\n",
    "provider = pf.providers.LSEG()\n",
    "my_pf = pf.Portfolio.from_etoro(acc_activity)\n",
    "\n",
    "\n",
    "my_pf._holds"
   ]
  },
  {
   "cell_type": "code",
   "execution_count": 27,
   "id": "3136ddb3",
   "metadata": {},
   "outputs": [
    {
     "name": "stdout",
     "output_type": "stream",
     "text": [
      "Attempting LSEG retrieval...\n",
      "Attempt 1/3 failed. Retrying in 3 seconds...\n",
      "Attempting LSEG retrieval...\n"
     ]
    },
    {
     "data": {
      "application/vnd.microsoft.datawrangler.viewer.v0+json": {
       "columns": [
        {
         "name": "Date",
         "rawType": "datetime64[ns]",
         "type": "datetime"
        },
        {
         "name": "NVDA.OQ",
         "rawType": "Float64",
         "type": "float"
        }
       ],
       "conversionMethod": "pd.DataFrame",
       "ref": "644f046a-d67d-4898-a9a9-4ace9982425d",
       "rows": [
        [
         "2020-01-02 00:00:00",
         "239.91"
        ],
        [
         "2020-01-03 00:00:00",
         "236.07"
        ],
        [
         "2020-01-06 00:00:00",
         "237.06"
        ],
        [
         "2020-01-07 00:00:00",
         "239.93"
        ],
        [
         "2020-01-08 00:00:00",
         "240.38"
        ],
        [
         "2020-01-09 00:00:00",
         "243.02"
        ],
        [
         "2020-01-10 00:00:00",
         "244.32"
        ],
        [
         "2020-01-13 00:00:00",
         "251.98"
        ],
        [
         "2020-01-14 00:00:00",
         "247.28"
        ],
        [
         "2020-01-15 00:00:00",
         "245.57"
        ]
       ],
       "shape": {
        "columns": 1,
        "rows": 10
       }
      },
      "text/html": [
       "<div>\n",
       "<style scoped>\n",
       "    .dataframe tbody tr th:only-of-type {\n",
       "        vertical-align: middle;\n",
       "    }\n",
       "\n",
       "    .dataframe tbody tr th {\n",
       "        vertical-align: top;\n",
       "    }\n",
       "\n",
       "    .dataframe thead th {\n",
       "        text-align: right;\n",
       "    }\n",
       "</style>\n",
       "<table border=\"1\" class=\"dataframe\">\n",
       "  <thead>\n",
       "    <tr style=\"text-align: right;\">\n",
       "      <th></th>\n",
       "      <th>NVDA.OQ</th>\n",
       "    </tr>\n",
       "    <tr>\n",
       "      <th>Date</th>\n",
       "      <th></th>\n",
       "    </tr>\n",
       "  </thead>\n",
       "  <tbody>\n",
       "    <tr>\n",
       "      <th>2020-01-02</th>\n",
       "      <td>239.91</td>\n",
       "    </tr>\n",
       "    <tr>\n",
       "      <th>2020-01-03</th>\n",
       "      <td>236.07</td>\n",
       "    </tr>\n",
       "    <tr>\n",
       "      <th>2020-01-06</th>\n",
       "      <td>237.06</td>\n",
       "    </tr>\n",
       "    <tr>\n",
       "      <th>2020-01-07</th>\n",
       "      <td>239.93</td>\n",
       "    </tr>\n",
       "    <tr>\n",
       "      <th>2020-01-08</th>\n",
       "      <td>240.38</td>\n",
       "    </tr>\n",
       "    <tr>\n",
       "      <th>2020-01-09</th>\n",
       "      <td>243.02</td>\n",
       "    </tr>\n",
       "    <tr>\n",
       "      <th>2020-01-10</th>\n",
       "      <td>244.32</td>\n",
       "    </tr>\n",
       "    <tr>\n",
       "      <th>2020-01-13</th>\n",
       "      <td>251.98</td>\n",
       "    </tr>\n",
       "    <tr>\n",
       "      <th>2020-01-14</th>\n",
       "      <td>247.28</td>\n",
       "    </tr>\n",
       "    <tr>\n",
       "      <th>2020-01-15</th>\n",
       "      <td>245.57</td>\n",
       "    </tr>\n",
       "  </tbody>\n",
       "</table>\n",
       "</div>"
      ],
      "text/plain": [
       "            NVDA.OQ\n",
       "Date               \n",
       "2020-01-02   239.91\n",
       "2020-01-03   236.07\n",
       "2020-01-06   237.06\n",
       "2020-01-07   239.93\n",
       "2020-01-08   240.38\n",
       "2020-01-09   243.02\n",
       "2020-01-10   244.32\n",
       "2020-01-13   251.98\n",
       "2020-01-14   247.28\n",
       "2020-01-15   245.57"
      ]
     },
     "execution_count": 27,
     "metadata": {},
     "output_type": "execute_result"
    }
   ],
   "source": [
    "provider.get_historical(['NVDA.OQ'], '2020-01-01', '2020-01-15')"
   ]
  },
  {
   "cell_type": "code",
   "execution_count": null,
   "id": "37fb08bb",
   "metadata": {
    "vscode": {
     "languageId": "javascript"
    }
   },
   "outputs": [],
   "source": [
    "AVGO = rd.get_history(universe=['AVGO.O'], \n",
    "                 fields=['TR.CLOSEPRICE(Adjusted=0)'],\n",
    "                 parameters = {\n",
    "                    'SDate': '2024-07-01',\n",
    "                    'EDate': '2024-07-31',\n",
    "                    'Curn': 'USD',\n",
    "                    'Frq': 'D',\n",
    "                    },\n",
    "                 )\n",
    "AVGO"
   ]
  }
 ],
 "metadata": {
  "kernelspec": {
   "display_name": "Python 3",
   "language": "python",
   "name": "python3"
  },
  "language_info": {
   "codemirror_mode": {
    "name": "ipython",
    "version": 3
   },
   "file_extension": ".py",
   "mimetype": "text/x-python",
   "name": "python",
   "nbconvert_exporter": "python",
   "pygments_lexer": "ipython3",
   "version": "3.12.5"
  }
 },
 "nbformat": 4,
 "nbformat_minor": 5
}

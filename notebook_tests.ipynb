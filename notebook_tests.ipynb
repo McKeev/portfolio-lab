{
 "cells": [
  {
   "cell_type": "code",
   "execution_count": 1,
   "id": "e70d4822",
   "metadata": {},
   "outputs": [],
   "source": [
    "# Standard libraries\n",
    "import os\n",
    "import time\n",
    "import datetime as dt\n",
    "from functools import wraps\n",
    "from contextlib import contextmanager\n",
    "from importlib import reload\n",
    "\n",
    "# Third-party libraries\n",
    "import pandas as pd\n",
    "import numpy as np\n",
    "import matplotlib.pyplot as plt\n",
    "import matplotlib.gridspec as GridSpec\n",
    "import seaborn as sns\n",
    "from scipy import stats\n",
    "\n",
    "# From project\n",
    "import portfolio as pf\n",
    "\n",
    "# API\n",
    "import refinitiv.data as rd\n",
    "\n",
    "# Open session\n",
    "try:\n",
    "    rd.open_session(app_key=os.getenv(\"refinitiv_key\")) \n",
    "except Exception as e:\n",
    "    print(f'Unable to open LSEG session')"
   ]
  },
  {
   "cell_type": "code",
   "execution_count": 2,
   "id": "7c68cd74",
   "metadata": {},
   "outputs": [
    {
     "data": {
      "text/plain": [
       "AAPL.OQ        0.534657\n",
       "AMZN.OQ        0.358487\n",
       "CNDX.L         0.229465\n",
       "DJGTEEX.DE     2.916791\n",
       "GE.N           0.452036\n",
       "GOOGL.OQ       0.433923\n",
       "IDEM.L         4.710863\n",
       "IUS3.DE        6.637308\n",
       "META.OQ        0.088196\n",
       "MSFT.OQ        0.256175\n",
       "NVDA.OQ        0.797200\n",
       "RHMG.DE        0.296078\n",
       "SAF.PA         0.260468\n",
       "SPY4.DE        2.184299\n",
       "SPY5.L         1.360467\n",
       "STOXXIEX.DE    8.652385\n",
       "TSLA.OQ        0.108611\n",
       "TSM.N          2.036316\n",
       "VERX.DE        2.762657\n",
       "VVSM.DE        2.898891\n",
       "XDEW.DE        3.184325\n",
       "ZPRR.DE        3.014086\n",
       "USD            3.770000\n",
       "Name: 2025-04-30 00:00:00, dtype: float64"
      ]
     },
     "execution_count": 2,
     "metadata": {},
     "output_type": "execute_result"
    }
   ],
   "source": [
    "reload(pf)\n",
    "\n",
    "@contextmanager\n",
    "def statement_dir():\n",
    "    \"\"\"Access directory that stores eToro statements\"\"\"\n",
    "    current_dir = os.getcwd()\n",
    "    os.chdir(r'C:\\Users\\cedri\\OneDrive\\Portfolio Management\\eToro Statements')\n",
    "    try:\n",
    "        yield\n",
    "    finally:\n",
    "        os.chdir(current_dir)\n",
    "\n",
    "with statement_dir():\n",
    "    acc_activity = pd.read_excel('cedric_statement.xlsx', sheet_name='Account Activity')\n",
    "\n",
    "\n",
    "provider = pf.providers.LSEG()\n",
    "my_pf = pf.Portfolio.from_etoro(acc_activity)\n",
    "\n",
    "\n",
    "my_pf._holds"
   ]
  },
  {
   "cell_type": "code",
   "execution_count": null,
   "id": "3136ddb3",
   "metadata": {},
   "outputs": [
    {
     "name": "stdout",
     "output_type": "stream",
     "text": [
      "Attempting LSEG retrieval...\n",
      "Attempt 1/3 failed. Retrying in 3 seconds...\n",
      "Attempting LSEG retrieval...\n",
      "Attempt 2/3 failed. Retrying in 3 seconds...\n",
      "Attempting LSEG retrieval...\n",
      "Attempt 3/3 failed.Max attempts reached.\n"
     ]
    },
    {
     "ename": "RDError",
     "evalue": "Error code -1 | Unable to resolve all requested identifiers in ['NVDAOQ'].",
     "output_type": "error",
     "traceback": [
      "\u001b[1;31m---------------------------------------------------------------------------\u001b[0m",
      "\u001b[1;31mRDError\u001b[0m                                   Traceback (most recent call last)",
      "Cell \u001b[1;32mIn[3], line 1\u001b[0m\n\u001b[1;32m----> 1\u001b[0m \u001b[43mprovider\u001b[49m\u001b[38;5;241;43m.\u001b[39;49m\u001b[43mget_historical\u001b[49m\u001b[43m(\u001b[49m\u001b[43m[\u001b[49m\u001b[38;5;124;43m'\u001b[39;49m\u001b[38;5;124;43mNVDAOQ\u001b[39;49m\u001b[38;5;124;43m'\u001b[39;49m\u001b[43m]\u001b[49m\u001b[43m,\u001b[49m\u001b[43m \u001b[49m\u001b[38;5;124;43m'\u001b[39;49m\u001b[38;5;124;43m2020-01-01\u001b[39;49m\u001b[38;5;124;43m'\u001b[39;49m\u001b[43m,\u001b[49m\u001b[43m \u001b[49m\u001b[38;5;124;43m'\u001b[39;49m\u001b[38;5;124;43m2020-01-15\u001b[39;49m\u001b[38;5;124;43m'\u001b[39;49m\u001b[43m)\u001b[49m\n",
      "File \u001b[1;32mc:\\Users\\cedri\\coding_projects\\portfolio-lab\\portfolio\\providers\\lseg.py:53\u001b[0m, in \u001b[0;36mLSEG.get_historical\u001b[1;34m(self, tickers, sdate, edate, adj)\u001b[0m\n\u001b[0;32m     50\u001b[0m         output\u001b[38;5;241m.\u001b[39mcolumns \u001b[38;5;241m=\u001b[39m tickers  \u001b[38;5;66;03m# Fix this to ensure compatibility\u001b[39;00m\n\u001b[0;32m     52\u001b[0m     \u001b[38;5;28;01mreturn\u001b[39;00m (output)\n\u001b[1;32m---> 53\u001b[0m \u001b[38;5;28;01mreturn\u001b[39;00m \u001b[43mattempt\u001b[49m\u001b[43m(\u001b[49m\u001b[43m)\u001b[49m\n",
      "File \u001b[1;32mc:\\Users\\cedri\\coding_projects\\portfolio-lab\\portfolio\\providers\\base.py:29\u001b[0m, in \u001b[0;36mretry.<locals>.decorator.<locals>.wrapper\u001b[1;34m(*args, **kwargs)\u001b[0m\n\u001b[0;32m     26\u001b[0m \u001b[38;5;28;01mfor\u001b[39;00m attempt \u001b[38;5;129;01min\u001b[39;00m \u001b[38;5;28mrange\u001b[39m(\u001b[38;5;241m1\u001b[39m, n \u001b[38;5;241m+\u001b[39m \u001b[38;5;241m1\u001b[39m):\n\u001b[0;32m     27\u001b[0m     \u001b[38;5;66;03m# Try to execute function\u001b[39;00m\n\u001b[0;32m     28\u001b[0m     \u001b[38;5;28;01mtry\u001b[39;00m:\n\u001b[1;32m---> 29\u001b[0m         \u001b[38;5;28;01mreturn\u001b[39;00m \u001b[43mfunc\u001b[49m\u001b[43m(\u001b[49m\u001b[38;5;241;43m*\u001b[39;49m\u001b[43margs\u001b[49m\u001b[43m,\u001b[49m\u001b[43m \u001b[49m\u001b[38;5;241;43m*\u001b[39;49m\u001b[38;5;241;43m*\u001b[39;49m\u001b[43mkwargs\u001b[49m\u001b[43m)\u001b[49m\n\u001b[0;32m     30\u001b[0m     \u001b[38;5;66;03m# Handle execution errors\u001b[39;00m\n\u001b[0;32m     31\u001b[0m     \u001b[38;5;28;01mexcept\u001b[39;00m \u001b[38;5;167;01mException\u001b[39;00m:\n",
      "File \u001b[1;32mc:\\Users\\cedri\\coding_projects\\portfolio-lab\\portfolio\\providers\\lseg.py:19\u001b[0m, in \u001b[0;36mLSEG.get_historical.<locals>.attempt\u001b[1;34m()\u001b[0m\n\u001b[0;32m     16\u001b[0m \u001b[38;5;28mprint\u001b[39m(\u001b[38;5;124m'\u001b[39m\u001b[38;5;124mAttempting LSEG retrieval...\u001b[39m\u001b[38;5;124m'\u001b[39m)  \u001b[38;5;66;03m# Give feedback to user\u001b[39;00m\n\u001b[0;32m     18\u001b[0m \u001b[38;5;28;01mif\u001b[39;00m adj \u001b[38;5;241m==\u001b[39m \u001b[38;5;124m'\u001b[39m\u001b[38;5;124munadjusted\u001b[39m\u001b[38;5;124m'\u001b[39m:\n\u001b[1;32m---> 19\u001b[0m     output \u001b[38;5;241m=\u001b[39m \u001b[43mrd\u001b[49m\u001b[38;5;241;43m.\u001b[39;49m\u001b[43mget_history\u001b[49m\u001b[43m(\u001b[49m\u001b[43muniverse\u001b[49m\u001b[38;5;241;43m=\u001b[39;49m\u001b[43mtickers\u001b[49m\u001b[43m,\u001b[49m\n\u001b[0;32m     20\u001b[0m \u001b[43m                            \u001b[49m\u001b[43mfields\u001b[49m\u001b[38;5;241;43m=\u001b[39;49m\u001b[43m[\u001b[49m\u001b[38;5;124;43m'\u001b[39;49m\u001b[38;5;124;43mTR.CLOSEPRICE(Adjusted=0)\u001b[39;49m\u001b[38;5;124;43m'\u001b[39;49m\u001b[43m]\u001b[49m\u001b[43m,\u001b[49m\n\u001b[0;32m     21\u001b[0m \u001b[43m                            \u001b[49m\u001b[43mparameters\u001b[49m\u001b[38;5;241;43m=\u001b[39;49m\u001b[43m{\u001b[49m\n\u001b[0;32m     22\u001b[0m \u001b[43m                                \u001b[49m\u001b[38;5;124;43m'\u001b[39;49m\u001b[38;5;124;43mSDate\u001b[39;49m\u001b[38;5;124;43m'\u001b[39;49m\u001b[43m:\u001b[49m\u001b[43m \u001b[49m\u001b[43msdate\u001b[49m\u001b[43m,\u001b[49m\n\u001b[0;32m     23\u001b[0m \u001b[43m                                \u001b[49m\u001b[38;5;124;43m'\u001b[39;49m\u001b[38;5;124;43mEDate\u001b[39;49m\u001b[38;5;124;43m'\u001b[39;49m\u001b[43m:\u001b[49m\u001b[43m \u001b[49m\u001b[43medate\u001b[49m\u001b[43m,\u001b[49m\n\u001b[0;32m     24\u001b[0m \u001b[43m                                \u001b[49m\u001b[38;5;124;43m'\u001b[39;49m\u001b[38;5;124;43mCurn\u001b[39;49m\u001b[38;5;124;43m'\u001b[39;49m\u001b[43m:\u001b[49m\u001b[43m \u001b[49m\u001b[38;5;124;43m'\u001b[39;49m\u001b[38;5;124;43mUSD\u001b[39;49m\u001b[38;5;124;43m'\u001b[39;49m\u001b[43m,\u001b[49m\n\u001b[0;32m     25\u001b[0m \u001b[43m                                \u001b[49m\u001b[38;5;124;43m'\u001b[39;49m\u001b[38;5;124;43mFrq\u001b[39;49m\u001b[38;5;124;43m'\u001b[39;49m\u001b[43m:\u001b[49m\u001b[43m \u001b[49m\u001b[38;5;124;43m'\u001b[39;49m\u001b[38;5;124;43mD\u001b[39;49m\u001b[38;5;124;43m'\u001b[39;49m\u001b[43m,\u001b[49m\n\u001b[0;32m     26\u001b[0m \u001b[43m                                \u001b[49m\u001b[43m}\u001b[49m\u001b[43m,\u001b[49m\n\u001b[0;32m     27\u001b[0m \u001b[43m                            \u001b[49m\u001b[43m)\u001b[49m\n\u001b[0;32m     29\u001b[0m \u001b[38;5;28;01melif\u001b[39;00m adj \u001b[38;5;241m==\u001b[39m \u001b[38;5;124m'\u001b[39m\u001b[38;5;124madjusted\u001b[39m\u001b[38;5;124m'\u001b[39m:\n\u001b[0;32m     30\u001b[0m     output \u001b[38;5;241m=\u001b[39m rd\u001b[38;5;241m.\u001b[39mget_history(universe\u001b[38;5;241m=\u001b[39mtickers,\n\u001b[0;32m     31\u001b[0m                             fields\u001b[38;5;241m=\u001b[39m[\u001b[38;5;124m'\u001b[39m\u001b[38;5;124mTR.CLOSEPRICE\u001b[39m\u001b[38;5;124m'\u001b[39m],\n\u001b[0;32m     32\u001b[0m                             parameters\u001b[38;5;241m=\u001b[39m{\n\u001b[1;32m   (...)\u001b[0m\n\u001b[0;32m     37\u001b[0m                                 },\n\u001b[0;32m     38\u001b[0m                             )\n",
      "File \u001b[1;32mc:\\Users\\cedri\\AppData\\Local\\Programs\\Python\\Python312\\Lib\\site-packages\\refinitiv\\data\\_access_layer\\get_history_func.py:206\u001b[0m, in \u001b[0;36mget_history\u001b[1;34m(universe, fields, interval, start, end, adjustments, count, use_field_names_in_headers, parameters)\u001b[0m\n\u001b[0;32m    204\u001b[0m \u001b[38;5;28;01mif\u001b[39;00m exceptions \u001b[38;5;129;01mand\u001b[39;00m \u001b[38;5;28mall\u001b[39m(exceptions):\n\u001b[0;32m    205\u001b[0m     except_msg \u001b[38;5;241m=\u001b[39m \u001b[38;5;124m\"\u001b[39m\u001b[38;5;130;01m\\n\u001b[39;00m\u001b[38;5;130;01m\\n\u001b[39;00m\u001b[38;5;124m\"\u001b[39m\u001b[38;5;241m.\u001b[39mjoin(exceptions)\n\u001b[1;32m--> 206\u001b[0m     \u001b[38;5;28;01mraise\u001b[39;00m RDError(\u001b[38;5;241m-\u001b[39m\u001b[38;5;241m1\u001b[39m, except_msg)\n\u001b[0;32m    208\u001b[0m \u001b[38;5;28;01mif\u001b[39;00m \u001b[38;5;129;01mnot\u001b[39;00m \u001b[38;5;28many\u001b[39m({adc_data, hp_data, cust_inst_data}):\n\u001b[0;32m    209\u001b[0m     \u001b[38;5;28;01mreturn\u001b[39;00m DataFrame()\n",
      "\u001b[1;31mRDError\u001b[0m: Error code -1 | Unable to resolve all requested identifiers in ['NVDAOQ']."
     ]
    }
   ],
   "source": [
    "provider.get_historical(['NVDA.OQ'], '2020-01-01', '2020-01-15')"
   ]
  },
  {
   "cell_type": "code",
   "execution_count": null,
   "id": "37fb08bb",
   "metadata": {
    "vscode": {
     "languageId": "javascript"
    }
   },
   "outputs": [],
   "source": [
    "AVGO = rd.get_history(universe=['AVGO.O'], \n",
    "                 fields=['TR.CLOSEPRICE(Adjusted=0)'],\n",
    "                 parameters = {\n",
    "                    'SDate': '2024-07-01',\n",
    "                    'EDate': '2024-07-31',\n",
    "                    'Curn': 'USD',\n",
    "                    'Frq': 'D',\n",
    "                    },\n",
    "                 )\n",
    "AVGO"
   ]
  }
 ],
 "metadata": {
  "kernelspec": {
   "display_name": "Python 3",
   "language": "python",
   "name": "python3"
  },
  "language_info": {
   "codemirror_mode": {
    "name": "ipython",
    "version": 3
   },
   "file_extension": ".py",
   "mimetype": "text/x-python",
   "name": "python",
   "nbconvert_exporter": "python",
   "pygments_lexer": "ipython3",
   "version": "3.12.5"
  }
 },
 "nbformat": 4,
 "nbformat_minor": 5
}

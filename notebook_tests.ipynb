{
 "cells": [
  {
   "cell_type": "code",
   "execution_count": 8,
   "id": "e70d4822",
   "metadata": {},
   "outputs": [],
   "source": [
    "# Standard libraries\n",
    "import os\n",
    "import time\n",
    "import datetime as dt\n",
    "from functools import wraps\n",
    "from contextlib import contextmanager\n",
    "from importlib import reload\n",
    "\n",
    "# Third-party libraries\n",
    "import pandas as pd\n",
    "import numpy as np\n",
    "import matplotlib.pyplot as plt\n",
    "import matplotlib.gridspec as GridSpec\n",
    "import seaborn as sns\n",
    "from scipy import stats\n",
    "\n",
    "# From project\n",
    "import portfolio as pf\n",
    "\n",
    "# API\n",
    "import refinitiv.data as rd\n",
    "\n",
    "# Open session\n",
    "try:\n",
    "    rd.open_session(app_key=os.getenv(\"refinitiv_key\")) \n",
    "except Exception as e:\n",
    "    print(f'Unable to open LSEG session')"
   ]
  },
  {
   "cell_type": "code",
   "execution_count": 9,
   "id": "7c68cd74",
   "metadata": {},
   "outputs": [
    {
     "data": {
      "text/plain": [
       "AAPL.OQ        0.534657\n",
       "AMZN.OQ        0.358487\n",
       "CNDX.L         0.229465\n",
       "DJGTEEX.DE     2.916791\n",
       "GE.N           0.452036\n",
       "GOOGL.OQ       0.433923\n",
       "IDEM.L         4.710863\n",
       "IUS3.DE        6.637308\n",
       "META.OQ        0.088196\n",
       "MSFT.OQ        0.256175\n",
       "NVDA.OQ        0.797200\n",
       "RHMG.DE        0.296078\n",
       "SAF.PA         0.260468\n",
       "SPY4.DE        2.184299\n",
       "SPY5.L         1.360467\n",
       "STOXXIEX.DE    8.652385\n",
       "TSLA.OQ        0.108611\n",
       "TSM.N          2.036316\n",
       "VERX.DE        2.762657\n",
       "VVSM.DE        2.898891\n",
       "XDEW.DE        3.184325\n",
       "ZPRR.DE        3.014086\n",
       "USD            3.770000\n",
       "Name: 2025-04-30 00:00:00, dtype: float64"
      ]
     },
     "execution_count": 9,
     "metadata": {},
     "output_type": "execute_result"
    }
   ],
   "source": [
    "reload(pf)\n",
    "\n",
    "@contextmanager\n",
    "def statement_dir():\n",
    "    \"\"\"Access directory that stores eToro statements\"\"\"\n",
    "    current_dir = os.getcwd()\n",
    "    os.chdir(r'C:\\Users\\cedri\\OneDrive\\Portfolio Management\\eToro Statements')\n",
    "    try:\n",
    "        yield\n",
    "    finally:\n",
    "        os.chdir(current_dir)\n",
    "\n",
    "with statement_dir():\n",
    "    acc_activity = pd.read_excel('cedric_statement.xlsx', sheet_name='Account Activity')\n",
    "\n",
    "\n",
    "provider = pf.providers.LSEG()\n",
    "my_pf = pf.Portfolio.from_etoro(acc_activity)\n",
    "\n",
    "\n",
    "my_pf._holds"
   ]
  },
  {
   "cell_type": "code",
   "execution_count": 34,
   "id": "3136ddb3",
   "metadata": {},
   "outputs": [
    {
     "name": "stdout",
     "output_type": "stream",
     "text": [
      "Attempting LSEG retrieval...\n"
     ]
    },
    {
     "name": "stderr",
     "output_type": "stream",
     "text": [
      "INFO:httpx:HTTP Request: POST http://localhost:9005/api/udf \"HTTP/1.1 200 OK\"\n"
     ]
    }
   ],
   "source": [
    "reload(pf)\n",
    "\n",
    "provider1 = pf.providers.LSEG()\n",
    "df = provider1.get_historical(['NVDA.OQ'], '2020-01-01', '2025-01-15', freq='D')"
   ]
  },
  {
   "cell_type": "code",
   "execution_count": 35,
   "id": "37fb08bb",
   "metadata": {},
   "outputs": [
    {
     "data": {
      "application/vnd.microsoft.datawrangler.viewer.v0+json": {
       "columns": [
        {
         "name": "Date",
         "rawType": "datetime64[ns]",
         "type": "datetime"
        },
        {
         "name": "NVDA.OQ",
         "rawType": "Float64",
         "type": "float"
        }
       ],
       "conversionMethod": "pd.DataFrame",
       "ref": "7ee915a7-e170-468e-a5cf-fc40cb0bc363",
       "rows": [
        [
         "2020-01-05 00:00:00",
         "236.07"
        ],
        [
         "2020-01-12 00:00:00",
         "244.32"
        ],
        [
         "2020-01-19 00:00:00",
         "249.28"
        ],
        [
         "2020-01-26 00:00:00",
         "250.48"
        ],
        [
         "2020-02-02 00:00:00",
         "236.43"
        ],
        [
         "2020-02-09 00:00:00",
         "251.59"
        ],
        [
         "2020-02-16 00:00:00",
         "289.79"
        ],
        [
         "2020-02-23 00:00:00",
         "294.07"
        ],
        [
         "2020-03-01 00:00:00",
         "270.07"
        ],
        [
         "2020-03-08 00:00:00",
         "266.04"
        ],
        [
         "2020-03-15 00:00:00",
         "240.84"
        ],
        [
         "2020-03-22 00:00:00",
         "205.75"
        ],
        [
         "2020-03-29 00:00:00",
         "252.73"
        ],
        [
         "2020-04-05 00:00:00",
         "243.91"
        ],
        [
         "2020-04-12 00:00:00",
         "262.95"
        ],
        [
         "2020-04-19 00:00:00",
         "292.32"
        ],
        [
         "2020-04-26 00:00:00",
         "289.59"
        ],
        [
         "2020-05-03 00:00:00",
         "282.78"
        ],
        [
         "2020-05-10 00:00:00",
         "312.5"
        ],
        [
         "2020-05-17 00:00:00",
         "339.63"
        ],
        [
         "2020-05-24 00:00:00",
         "361.05"
        ],
        [
         "2020-05-31 00:00:00",
         "355.02"
        ],
        [
         "2020-06-07 00:00:00",
         "356.8"
        ],
        [
         "2020-06-14 00:00:00",
         "357.3"
        ],
        [
         "2020-06-21 00:00:00",
         "370.45"
        ],
        [
         "2020-06-28 00:00:00",
         "366.2"
        ],
        [
         "2020-07-05 00:00:00",
         "384.49"
        ],
        [
         "2020-07-12 00:00:00",
         "419.17"
        ],
        [
         "2020-07-19 00:00:00",
         "408.06"
        ],
        [
         "2020-07-26 00:00:00",
         "407.78"
        ],
        [
         "2020-08-02 00:00:00",
         "424.59"
        ],
        [
         "2020-08-09 00:00:00",
         "447.98"
        ],
        [
         "2020-08-16 00:00:00",
         "462.56"
        ],
        [
         "2020-08-23 00:00:00",
         "507.34"
        ],
        [
         "2020-08-30 00:00:00",
         "525.91"
        ],
        [
         "2020-09-06 00:00:00",
         "504.9"
        ],
        [
         "2020-09-13 00:00:00",
         "486.58"
        ],
        [
         "2020-09-20 00:00:00",
         "487.57"
        ],
        [
         "2020-09-27 00:00:00",
         "514.95"
        ],
        [
         "2020-10-04 00:00:00",
         "522.49"
        ],
        [
         "2020-10-11 00:00:00",
         "550.51"
        ],
        [
         "2020-10-18 00:00:00",
         "552.46"
        ],
        [
         "2020-10-25 00:00:00",
         "543.61"
        ],
        [
         "2020-11-01 00:00:00",
         "501.36"
        ],
        [
         "2020-11-08 00:00:00",
         "582.48"
        ],
        [
         "2020-11-15 00:00:00",
         "531.88"
        ],
        [
         "2020-11-22 00:00:00",
         "523.51"
        ],
        [
         "2020-11-29 00:00:00",
         "530.45"
        ],
        [
         "2020-12-06 00:00:00",
         "542.33"
        ],
        [
         "2020-12-13 00:00:00",
         "520.53"
        ]
       ],
       "shape": {
        "columns": 1,
        "rows": 264
       }
      },
      "text/html": [
       "<div>\n",
       "<style scoped>\n",
       "    .dataframe tbody tr th:only-of-type {\n",
       "        vertical-align: middle;\n",
       "    }\n",
       "\n",
       "    .dataframe tbody tr th {\n",
       "        vertical-align: top;\n",
       "    }\n",
       "\n",
       "    .dataframe thead th {\n",
       "        text-align: right;\n",
       "    }\n",
       "</style>\n",
       "<table border=\"1\" class=\"dataframe\">\n",
       "  <thead>\n",
       "    <tr style=\"text-align: right;\">\n",
       "      <th></th>\n",
       "      <th>NVDA.OQ</th>\n",
       "    </tr>\n",
       "    <tr>\n",
       "      <th>Date</th>\n",
       "      <th></th>\n",
       "    </tr>\n",
       "  </thead>\n",
       "  <tbody>\n",
       "    <tr>\n",
       "      <th>2020-01-05</th>\n",
       "      <td>236.07</td>\n",
       "    </tr>\n",
       "    <tr>\n",
       "      <th>2020-01-12</th>\n",
       "      <td>244.32</td>\n",
       "    </tr>\n",
       "    <tr>\n",
       "      <th>2020-01-19</th>\n",
       "      <td>249.28</td>\n",
       "    </tr>\n",
       "    <tr>\n",
       "      <th>2020-01-26</th>\n",
       "      <td>250.48</td>\n",
       "    </tr>\n",
       "    <tr>\n",
       "      <th>2020-02-02</th>\n",
       "      <td>236.43</td>\n",
       "    </tr>\n",
       "    <tr>\n",
       "      <th>...</th>\n",
       "      <td>...</td>\n",
       "    </tr>\n",
       "    <tr>\n",
       "      <th>2024-12-22</th>\n",
       "      <td>134.7</td>\n",
       "    </tr>\n",
       "    <tr>\n",
       "      <th>2024-12-29</th>\n",
       "      <td>137.01</td>\n",
       "    </tr>\n",
       "    <tr>\n",
       "      <th>2025-01-05</th>\n",
       "      <td>144.47</td>\n",
       "    </tr>\n",
       "    <tr>\n",
       "      <th>2025-01-12</th>\n",
       "      <td>135.91</td>\n",
       "    </tr>\n",
       "    <tr>\n",
       "      <th>2025-01-19</th>\n",
       "      <td>136.24</td>\n",
       "    </tr>\n",
       "  </tbody>\n",
       "</table>\n",
       "<p>264 rows × 1 columns</p>\n",
       "</div>"
      ],
      "text/plain": [
       "            NVDA.OQ\n",
       "Date               \n",
       "2020-01-05   236.07\n",
       "2020-01-12   244.32\n",
       "2020-01-19   249.28\n",
       "2020-01-26   250.48\n",
       "2020-02-02   236.43\n",
       "...             ...\n",
       "2024-12-22    134.7\n",
       "2024-12-29   137.01\n",
       "2025-01-05   144.47\n",
       "2025-01-12   135.91\n",
       "2025-01-19   136.24\n",
       "\n",
       "[264 rows x 1 columns]"
      ]
     },
     "execution_count": 35,
     "metadata": {},
     "output_type": "execute_result"
    }
   ],
   "source": [
    "\n",
    "df1 = pf.providers.base._treat_historical(df, 'W')\n",
    "\n",
    "df1"
   ]
  },
  {
   "cell_type": "code",
   "execution_count": 42,
   "id": "9a24796d",
   "metadata": {},
   "outputs": [
    {
     "data": {
      "application/vnd.microsoft.datawrangler.viewer.v0+json": {
       "columns": [
        {
         "name": "Date",
         "rawType": "datetime64[ns]",
         "type": "datetime"
        },
        {
         "name": "NVDA.OQ",
         "rawType": "Float64",
         "type": "float"
        }
       ],
       "conversionMethod": "pd.DataFrame",
       "ref": "d3df7fef-8300-4cc2-a58b-298a0b591ced",
       "rows": [
        [
         "2020-01-05 00:00:00",
         null
        ],
        [
         "2020-01-12 00:00:00",
         null
        ],
        [
         "2020-01-19 00:00:00",
         "249.28"
        ],
        [
         "2020-01-26 00:00:00",
         "250.48"
        ],
        [
         "2020-02-02 00:00:00",
         "236.43"
        ],
        [
         "2020-02-09 00:00:00",
         "251.59"
        ],
        [
         "2020-02-16 00:00:00",
         "289.79"
        ],
        [
         "2020-02-23 00:00:00",
         "294.07"
        ],
        [
         "2020-03-01 00:00:00",
         "270.07"
        ],
        [
         "2020-03-08 00:00:00",
         "266.04"
        ],
        [
         "2020-03-15 00:00:00",
         "240.84"
        ],
        [
         "2020-03-22 00:00:00",
         "205.75"
        ],
        [
         "2020-03-29 00:00:00",
         "252.73"
        ],
        [
         "2020-04-05 00:00:00",
         "243.91"
        ],
        [
         "2020-04-12 00:00:00",
         "262.95"
        ],
        [
         "2020-04-19 00:00:00",
         "292.32"
        ],
        [
         "2020-04-26 00:00:00",
         "289.59"
        ],
        [
         "2020-05-03 00:00:00",
         "282.78"
        ],
        [
         "2020-05-10 00:00:00",
         "312.5"
        ],
        [
         "2020-05-17 00:00:00",
         "339.63"
        ],
        [
         "2020-05-24 00:00:00",
         "361.05"
        ],
        [
         "2020-05-31 00:00:00",
         "355.02"
        ],
        [
         "2020-06-07 00:00:00",
         "356.8"
        ],
        [
         "2020-06-14 00:00:00",
         "357.3"
        ],
        [
         "2020-06-21 00:00:00",
         "370.45"
        ],
        [
         "2020-06-28 00:00:00",
         "366.2"
        ],
        [
         "2020-07-05 00:00:00",
         "384.49"
        ],
        [
         "2020-07-12 00:00:00",
         "419.17"
        ],
        [
         "2020-07-19 00:00:00",
         "408.06"
        ],
        [
         "2020-07-26 00:00:00",
         "407.78"
        ],
        [
         "2020-08-02 00:00:00",
         "424.59"
        ],
        [
         "2020-08-09 00:00:00",
         "447.98"
        ],
        [
         "2020-08-16 00:00:00",
         "462.56"
        ],
        [
         "2020-08-23 00:00:00",
         "507.34"
        ],
        [
         "2020-08-30 00:00:00",
         "525.91"
        ],
        [
         "2020-09-06 00:00:00",
         "504.9"
        ],
        [
         "2020-09-13 00:00:00",
         "486.58"
        ],
        [
         "2020-09-20 00:00:00",
         "487.57"
        ],
        [
         "2020-09-27 00:00:00",
         "514.95"
        ],
        [
         "2020-10-04 00:00:00",
         "522.49"
        ],
        [
         "2020-10-11 00:00:00",
         "550.51"
        ],
        [
         "2020-10-18 00:00:00",
         "552.46"
        ],
        [
         "2020-10-25 00:00:00",
         "543.61"
        ],
        [
         "2020-11-01 00:00:00",
         "501.36"
        ],
        [
         "2020-11-08 00:00:00",
         "582.48"
        ],
        [
         "2020-11-15 00:00:00",
         "531.88"
        ],
        [
         "2020-11-22 00:00:00",
         "523.51"
        ],
        [
         "2020-11-29 00:00:00",
         "530.45"
        ],
        [
         "2020-12-06 00:00:00",
         "542.33"
        ],
        [
         "2020-12-13 00:00:00",
         "520.53"
        ]
       ],
       "shape": {
        "columns": 1,
        "rows": 264
       }
      },
      "text/html": [
       "<div>\n",
       "<style scoped>\n",
       "    .dataframe tbody tr th:only-of-type {\n",
       "        vertical-align: middle;\n",
       "    }\n",
       "\n",
       "    .dataframe tbody tr th {\n",
       "        vertical-align: top;\n",
       "    }\n",
       "\n",
       "    .dataframe thead th {\n",
       "        text-align: right;\n",
       "    }\n",
       "</style>\n",
       "<table border=\"1\" class=\"dataframe\">\n",
       "  <thead>\n",
       "    <tr style=\"text-align: right;\">\n",
       "      <th></th>\n",
       "      <th>NVDA.OQ</th>\n",
       "    </tr>\n",
       "    <tr>\n",
       "      <th>Date</th>\n",
       "      <th></th>\n",
       "    </tr>\n",
       "  </thead>\n",
       "  <tbody>\n",
       "    <tr>\n",
       "      <th>2020-01-05</th>\n",
       "      <td>&lt;NA&gt;</td>\n",
       "    </tr>\n",
       "    <tr>\n",
       "      <th>2020-01-12</th>\n",
       "      <td>&lt;NA&gt;</td>\n",
       "    </tr>\n",
       "    <tr>\n",
       "      <th>2020-01-19</th>\n",
       "      <td>249.28</td>\n",
       "    </tr>\n",
       "    <tr>\n",
       "      <th>2020-01-26</th>\n",
       "      <td>250.48</td>\n",
       "    </tr>\n",
       "    <tr>\n",
       "      <th>2020-02-02</th>\n",
       "      <td>236.43</td>\n",
       "    </tr>\n",
       "    <tr>\n",
       "      <th>...</th>\n",
       "      <td>...</td>\n",
       "    </tr>\n",
       "    <tr>\n",
       "      <th>2024-12-22</th>\n",
       "      <td>134.7</td>\n",
       "    </tr>\n",
       "    <tr>\n",
       "      <th>2024-12-29</th>\n",
       "      <td>137.01</td>\n",
       "    </tr>\n",
       "    <tr>\n",
       "      <th>2025-01-05</th>\n",
       "      <td>144.47</td>\n",
       "    </tr>\n",
       "    <tr>\n",
       "      <th>2025-01-12</th>\n",
       "      <td>135.91</td>\n",
       "    </tr>\n",
       "    <tr>\n",
       "      <th>2025-01-19</th>\n",
       "      <td>136.24</td>\n",
       "    </tr>\n",
       "  </tbody>\n",
       "</table>\n",
       "<p>264 rows × 1 columns</p>\n",
       "</div>"
      ],
      "text/plain": [
       "            NVDA.OQ\n",
       "Date               \n",
       "2020-01-05     <NA>\n",
       "2020-01-12     <NA>\n",
       "2020-01-19   249.28\n",
       "2020-01-26   250.48\n",
       "2020-02-02   236.43\n",
       "...             ...\n",
       "2024-12-22    134.7\n",
       "2024-12-29   137.01\n",
       "2025-01-05   144.47\n",
       "2025-01-12   135.91\n",
       "2025-01-19   136.24\n",
       "\n",
       "[264 rows x 1 columns]"
      ]
     },
     "execution_count": 42,
     "metadata": {},
     "output_type": "execute_result"
    }
   ],
   "source": [
    "reload(pf.providers.base)\n",
    "\n",
    "df = df1.copy()\n",
    "df.iloc[0:2] = np.NaN\n",
    "\n",
    "pf.providers.base._treat_historical(df, 'W')"
   ]
  }
 ],
 "metadata": {
  "kernelspec": {
   "display_name": "Python 3",
   "language": "python",
   "name": "python3"
  },
  "language_info": {
   "codemirror_mode": {
    "name": "ipython",
    "version": 3
   },
   "file_extension": ".py",
   "mimetype": "text/x-python",
   "name": "python",
   "nbconvert_exporter": "python",
   "pygments_lexer": "ipython3",
   "version": "3.12.5"
  }
 },
 "nbformat": 4,
 "nbformat_minor": 5
}
